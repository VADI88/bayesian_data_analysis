{
  "cells": [
    {
      "cell_type": "raw",
      "metadata": {},
      "source": [
        "---\n",
        "title: Python-normalnormal\n",
        "format: html\n",
        "editor: visual\n",
        "---"
      ]
    },
    {
      "cell_type": "markdown",
      "metadata": {},
      "source": [
        "# Normal-Normal Example\n",
        "\n",
        "Let's assume we're conducting quality control in a factory. We have a machine that produces candies, and the weight of these candies follows a normal distribution. We know the standard deviation of the weight is 2 grams, but the machine has a control to adjust the average weight. The setting on the machine has been lost, so we don't know the average weight it is set for. We weigh 10 candies, and we want to infer the average weight from these measurements.\n",
        "\n",
        "## Base R"
      ]
    },
    {
      "cell_type": "code",
      "metadata": {},
      "source": [
        "import numpy as np\n",
        "import matplotlib.pyplot as plt\n",
        "import pandas as pd\n",
        "from cmdstanpy import CmdStanModel, cmdstan_path\n",
        "from scipy.stats import norm\n",
        "\n",
        "\n",
        "# Prior hyperparameters\n",
        "mu_prior = 100\n",
        "sigma_prior = 50\n",
        "\n",
        "\n",
        "## Visualize the prior distribution\n",
        "plt.hist(norm.rvs(mu_prior, sigma_prior, size = 1000000))\n",
        "\n",
        "\n",
        "# 95% prior credible interval for theta\n",
        "norm.ppf([0.025, 0.975], mu_prior, sigma_prior)"
      ],
      "execution_count": null,
      "outputs": []
    },
    {
      "cell_type": "code",
      "metadata": {},
      "source": [
        "# Simulate some Normal data\n",
        "np.random.seed(123) # for reproducibility\n",
        "N = 10\n",
        "true_mu = 50 # true average weight of candies (in grams)\n",
        "sigma = 2 # known standard deviation (in grams)\n",
        "x = norm.rvs(true_mu, sigma, size = N) # observed weights\n",
        "\n",
        "# Update parameters\n",
        "mu_posterior = (sigma**2*mu_prior + N*np.mean(x)*sigma_prior**2)/(sigma**2 + N*sigma_prior**2)\n",
        "sigma_posterior = (sigma**2*sigma_prior**2)/(sigma**2+N*sigma_prior**2)\n",
        "\n",
        "mu_posterior\n",
        "sigma_posterior\n",
        "\n",
        "plt.clf()\n",
        "plt.hist(norm.rvs(mu_posterior, sigma_posterior, size = 100000))\n",
        "plt.show()"
      ],
      "execution_count": null,
      "outputs": []
    },
    {
      "cell_type": "code",
      "metadata": {},
      "source": [
        "# 95% posterior credible interval for theta\n",
        "norm.ppf([0.025, 0.975], mu_posterior, sigma_posterior)"
      ],
      "execution_count": null,
      "outputs": []
    },
    {
      "cell_type": "code",
      "metadata": {},
      "source": [
        "# Predictive distribution of a NEW 50 observations\n",
        "\n",
        "# Manually\n",
        "# Pick 100,000 values of theta from prior\n",
        "mu_draws = norm.rvs(loc = mu_posterior, scale = sigma_posterior, size = 100000)\n",
        "# Pick 100,000 values from Binomial(n = 50, p = theta)\n",
        "future_obs = norm.rvs(loc = mu_draws, scale = sigma, size = 100000)\n",
        "\n",
        "plt.clf()\n",
        "plt.hist(future_obs)\n",
        "plt.show()"
      ],
      "execution_count": null,
      "outputs": []
    },
    {
      "cell_type": "code",
      "metadata": {},
      "source": [
        "plt.clf()\n",
        "plt.hist(norm.rvs(loc = mu_posterior, scale = np.sqrt(sigma**2+sigma_posterior**2), size = 100000))\n",
        "plt.show()"
      ],
      "execution_count": null,
      "outputs": []
    },
    {
      "cell_type": "markdown",
      "metadata": {},
      "source": [
        "# Stan"
      ]
    },
    {
      "cell_type": "code",
      "metadata": {},
      "source": [
        "# Import necessary libraries\n",
        "from cmdstanpy import CmdStanModel\n",
        "import numpy as np\n",
        "import pandas as pd\n",
        "import matplotlib.pyplot as plt\n",
        "from scipy.stats import norm, mode\n",
        "\n",
        "# Define Stan model\n",
        "stan_code = \"\"\"\n",
        "data {\n",
        "  int<lower=0> N; // number of observations\n",
        "  vector[N] y; // observed weights\n",
        "  real<lower=0> sigma; // known standard deviation\n",
        "  real mu_prior; // prior mean\n",
        "  real<lower=0> sigma_prior; // prior standard deviation\n",
        "}\n",
        "parameters {\n",
        "  real mu; // mean\n",
        "}\n",
        "model {\n",
        "  mu ~ normal(mu_prior, sigma_prior); // prior\n",
        "  y ~ normal(mu, sigma); // likelihood\n",
        "}\n",
        "generated quantities {\n",
        "  real y_pred;\n",
        "  y_pred = normal_rng(mu, sigma); // posterior predictive distribution\n",
        "}\n",
        "\"\"\"\n",
        "\n",
        "# Write model to a file\n",
        "with open(\"model.stan\", \"w\") as f:\n",
        "    f.write(stan_code)\n",
        "\n",
        "# Compile model\n",
        "model = CmdStanModel(stan_file=\"model.stan\")"
      ],
      "execution_count": null,
      "outputs": []
    },
    {
      "cell_type": "code",
      "metadata": {},
      "source": [
        "# Simulate some Normal data\n",
        "np.random.seed(123)  # for reproducibility\n",
        "N = 10\n",
        "true_mu = 50  # true average weight of candies (in grams)\n",
        "sigma = 2  # known standard deviation (in grams)\n",
        "y = norm.rvs(loc = true_mu, scale = sigma, size=N)  # observed weights\n",
        "\n",
        "# Prior hyperparameters\n",
        "mu_prior = 100\n",
        "sigma_prior = 50\n",
        "\n",
        "# Run Stan model\n",
        "stan_data = {\n",
        "  \"N\": N,\n",
        "  \"y\": y,\n",
        "  \"sigma\": sigma,\n",
        "  \"mu_prior\": mu_prior,\n",
        "  \"sigma_prior\": sigma_prior\n",
        "}\n",
        "\n",
        "fit = model.sample(data=stan_data, iter_sampling=1000, chains=4)"
      ],
      "execution_count": null,
      "outputs": []
    },
    {
      "cell_type": "code",
      "metadata": {},
      "source": [
        "# Extract posterior samples\n",
        "posterior_samples = fit.stan_variables()\n",
        "\n",
        "# Convert to DataFrame\n",
        "posterior_samples_df = pd.DataFrame(posterior_samples)\n",
        "\n",
        "# 95% credible interval\n",
        "ci = np.quantile(posterior_samples_df['mu'], [0.025, 0.975])\n",
        "print(f\"95% credible interval for mu: ({ci[0]}, {ci[1]})\")"
      ],
      "execution_count": null,
      "outputs": []
    },
    {
      "cell_type": "code",
      "metadata": {},
      "source": [
        "# MAP estimate\n",
        "# Doesn't work for continuous distributions\n",
        "#map_estimate = mode(posterior_samples_df['mu'])[0][0]\n",
        "#print(f\"MAP estimate for mu: {map_estimate}\")\n",
        "\n",
        "# Expected value (mean of Normal distribution)\n",
        "expected_value = np.mean(posterior_samples_df['mu'])\n",
        "print(f\"Expected value for mu: {expected_value}\")\n",
        "\n",
        "\n",
        "# Median \n",
        "median = np.median(posterior_samples_df['mu'])\n",
        "print(f\"Expected value for mu: {median}\")"
      ],
      "execution_count": null,
      "outputs": []
    },
    {
      "cell_type": "code",
      "metadata": {},
      "source": [
        "# Posterior predictive samples\n",
        "y_pred_samples = posterior_samples_df['y_pred']\n",
        "\n",
        "# Plot posterior predictive distribution\n",
        "plt.hist(y_pred_samples, density=True)\n",
        "plt.title(\"Posterior predictive distribution\")\n",
        "plt.xlabel(\"y_pred\")\n",
        "plt.show()"
      ],
      "execution_count": null,
      "outputs": []
    }
  ],
  "metadata": {
    "kernelspec": {
      "display_name": "Python 3",
      "language": "python",
      "name": "python3"
    }
  },
  "nbformat": 4,
  "nbformat_minor": 4
}